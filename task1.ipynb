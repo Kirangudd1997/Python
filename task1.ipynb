{
 "cells": [
  {
   "cell_type": "markdown",
   "id": "6ab97188",
   "metadata": {},
   "source": [
    "Task\n",
    "Given an integer, , perform the following conditional actions:\n",
    "\n",
    "If  is odd, print Weird\n",
    "If  is even and in the inclusive range of  to , print Not Weird\n",
    "If  is even and in the inclusive range of  to , print Weird\n",
    "If  is even and greater than , print Not Weird\n",
    "Input Format\n",
    "\n",
    "A single line containing a positive integer, .\n",
    "\n",
    "Constraints\n",
    "\n",
    "Output Format\n",
    "\n",
    "Print Weird if the number is weird. Otherwise, print Not Weird.\n",
    "\n",
    "Sample Input 0\n",
    "\n",
    "3\n",
    "Sample Output 0\n",
    "\n",
    "Weird\n",
    "Explanation 0\n",
    "\n",
    "\n",
    " is odd and odd numbers are weird, so print Weird.\n",
    "\n",
    "Sample Input 1\n",
    "\n",
    "24\n",
    "Sample Output 1\n",
    "\n",
    "Not Weird\n",
    "Explanation 1\n",
    "\n",
    "\n",
    " and  is even, so it is not weird.\n",
    "\n",
    "Language\n"
   ]
  },
  {
   "cell_type": "code",
   "execution_count": null,
   "id": "b34eb685",
   "metadata": {},
   "outputs": [],
   "source": [
    "import math\n",
    "import os\n",
    "import random\n",
    "import re\n",
    "import sys\n",
    "if __name__ == '__main__':\n",
    "    n = int(input().strip())\n",
    "    \n",
    "    if n%2 or 6<=n<=20:\n",
    "    print('Weird')\n",
    "    else:\n",
    "    print('Not Weird')\n"
   ]
  },
  {
   "cell_type": "code",
   "execution_count": null,
   "id": "ce4d45f6",
   "metadata": {},
   "outputs": [],
   "source": []
  }
 ],
 "metadata": {
  "kernelspec": {
   "display_name": "Python 3 (ipykernel)",
   "language": "python",
   "name": "python3"
  },
  "language_info": {
   "codemirror_mode": {
    "name": "ipython",
    "version": 3
   },
   "file_extension": ".py",
   "mimetype": "text/x-python",
   "name": "python",
   "nbconvert_exporter": "python",
   "pygments_lexer": "ipython3",
   "version": "3.10.4"
  }
 },
 "nbformat": 4,
 "nbformat_minor": 5
}
